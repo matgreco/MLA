{
  "nbformat": 4,
  "nbformat_minor": 0,
  "metadata": {
    "colab": {
      "provenance": []
    },
    "kernelspec": {
      "name": "python3",
      "display_name": "Python 3"
    },
    "language_info": {
      "name": "python"
    }
  },
  "cells": [
    {
      "cell_type": "markdown",
      "source": [
        "# Machine Learning Avanzado\n",
        "\n",
        "- Trabajo final\n",
        "- Modalidad: Grupal\n",
        "- Fecha de entrega: 04 de agosto, 2023\n",
        "\n",
        "En este trabajo final de integración, usted debe demostrar sus conocimientos adquiridos. Cumplir con lo mínimo solicitado no le garantiza la nota máxima, ya que se espera proactividad y curiosidad de su parte.\n",
        "\n",
        "Usted cuenta con el apoyo de su profesor en caso de que requiera clarificar algun requerimiento o guía en esta tarea, por lo que si se ve estancado o no entiende alguna parte del proyecto, escríba un correo o pída una reunión con su profesor."
      ],
      "metadata": {
        "id": "se5_XvnUlaG2"
      }
    },
    {
      "cell_type": "code",
      "source": [
        "!wget https://raw.githubusercontent.com/matgreco/MLA/master/semana2/spotify_dataset.csv\n",
        "!wget https://raw.githubusercontent.com/matgreco/MLA/master/semana2/user_preferences.csv"
      ],
      "metadata": {
        "id": "F8A73r4ZmoGw",
        "outputId": "28f8a469-f9e4-40b7-a36b-c70622d501fe",
        "colab": {
          "base_uri": "https://localhost:8080/"
        }
      },
      "execution_count": null,
      "outputs": [
        {
          "output_type": "stream",
          "name": "stdout",
          "text": [
            "--2023-07-15 14:14:22--  https://raw.githubusercontent.com/matgreco/MLA/master/semana2/spotify_dataset.csv\n",
            "Resolving raw.githubusercontent.com (raw.githubusercontent.com)... 185.199.108.133, 185.199.109.133, 185.199.110.133, ...\n",
            "Connecting to raw.githubusercontent.com (raw.githubusercontent.com)|185.199.108.133|:443... connected.\n",
            "HTTP request sent, awaiting response... 200 OK\n",
            "Length: 13454391 (13M) [text/plain]\n",
            "Saving to: ‘spotify_dataset.csv’\n",
            "\n",
            "spotify_dataset.csv 100%[===================>]  12.83M  --.-KB/s    in 0.1s    \n",
            "\n",
            "2023-07-15 14:14:22 (114 MB/s) - ‘spotify_dataset.csv’ saved [13454391/13454391]\n",
            "\n",
            "--2023-07-15 14:14:23--  https://raw.githubusercontent.com/matgreco/MLA/master/semana2/user_preferences.csv\n",
            "Resolving raw.githubusercontent.com (raw.githubusercontent.com)... 185.199.108.133, 185.199.109.133, 185.199.110.133, ...\n",
            "Connecting to raw.githubusercontent.com (raw.githubusercontent.com)|185.199.108.133|:443... connected.\n",
            "HTTP request sent, awaiting response... 200 OK\n",
            "Length: 400 [text/plain]\n",
            "Saving to: ‘user_preferences.csv’\n",
            "\n",
            "user_preferences.cs 100%[===================>]     400  --.-KB/s    in 0s      \n",
            "\n",
            "2023-07-15 14:14:23 (27.9 MB/s) - ‘user_preferences.csv’ saved [400/400]\n",
            "\n"
          ]
        }
      ]
    },
    {
      "cell_type": "markdown",
      "source": [
        "# Sistema recomendador de canciones\n",
        "\n",
        "Usted ha sido recientemente contratado como científico de datos en Spotify. En la empresa consideran que una de las características que mas valoran de su producto es que tiene una gran biblioteca de canciones, pero los usuarios indican que el sistema carece de recomendaciones acordes a las votaciones o canciones que hayan escuchado.\n",
        "\n",
        "Spotify ha tomado esto seriamente y se ha dedicado a recolectar datos de sus usuarios, por lo que le han solicitado a usted ayudarlos en la creación de un sistema recomendador basado en los gustos de cada personas.  \n",
        "\n",
        "El archivo `spotify_dataset.csv` contiene un dataset con características de canciones de spotify. Por otro lado, el archivo `user_preferences.csv` contiene por cada uno de los 6 usuarios (con indices del 0 al 5), el índice de las canciones que le han gustado.\n",
        "\n",
        "***Dada esa información, construya un sistema recomendador que le recomiende a cada uno de los 6 usuarios otras 10 canciones del dataset.***\n",
        "\n",
        "El recomendador a construir puede ser basado en clusterización o en distancia.\n",
        "\n",
        "Documente el proceso y explique cada una de las decisiones que toma y que criterios las sustentan."
      ],
      "metadata": {
        "id": "Qpz9z0X2yEwe"
      }
    },
    {
      "cell_type": "code",
      "execution_count": null,
      "metadata": {
        "id": "GemOOyt8x_A4"
      },
      "outputs": [],
      "source": []
    },
    {
      "cell_type": "code",
      "source": [
        "!wget https://raw.githubusercontent.com/matgreco/MLA/master/semana2/labeled_songs.csv"
      ],
      "metadata": {
        "id": "xK8Cdim8mykQ"
      },
      "execution_count": null,
      "outputs": []
    },
    {
      "cell_type": "markdown",
      "source": [
        "# Semi-supervised learning\n",
        "\n",
        "El aprendizaje semi-supervisado es aquel que utiliza para su aprendizaje un conjunto de datos no etiquetados y un pequeño conjunto de datos etiquetados. Esto es muy común cuando obtener datos es simple, pero etiquetarlos es dificil y por lo tanto costoso.\n",
        "\n",
        "El archivo `labeled_songs.csv` contiene el genero musical de 150 canciones del dataset `spotify_dataset.csv`.\n",
        "\n",
        "Aprovechando la gran cantidad de datos existentes en el dataset de canciones, y la valiosa información contenida en `labeled_songs.csv` construya un sistema\n",
        "que a traves de clusterización nos permita predecir el genero musical de las canciones.\n",
        "\n",
        "El procedimiento a seguir debe ser el siguiente:\n",
        "1. Utilizando clusterización, complete las etiquetas de género de los 42305 ejemplos.\n",
        "2. Extraiga del dataset de entrenamiento los elementos del dataset \"labeled songs\" y conservelos como set de test.\n",
        "3. Utilizando todos los ejemplos etiquetados a traves de clusterización, entrene una red neuronal para predecir el género de una canción. Evalue el clasificador en el set de test y reporte los resultados.  \n"
      ],
      "metadata": {
        "id": "_L4NrKI-yMq8"
      }
    },
    {
      "cell_type": "code",
      "source": [],
      "metadata": {
        "id": "4-3ZTHlQh0VO"
      },
      "execution_count": null,
      "outputs": []
    }
  ]
}