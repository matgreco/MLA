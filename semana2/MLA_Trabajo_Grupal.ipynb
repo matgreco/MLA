{
  "nbformat": 4,
  "nbformat_minor": 0,
  "metadata": {
    "colab": {
      "provenance": []
    },
    "kernelspec": {
      "name": "python3",
      "display_name": "Python 3"
    },
    "language_info": {
      "name": "python"
    }
  },
  "cells": [
    {
      "cell_type": "markdown",
      "source": [
        "# Machine Learning Avanzado - Tarea 2\n",
        "# http://bitly.ws/Ls4S\n",
        "- Profesor: Matías Greco\n",
        "- Modalidad: Grupal\n",
        "- Fecha de entrega: Miercoles 19, Julio. 2023\n"
      ],
      "metadata": {
        "id": "bsE5kF8Fbjom"
      }
    },
    {
      "cell_type": "markdown",
      "source": [
        "\n",
        "# Clusterización\n",
        "\n",
        "Dado el dataset Iris, clusterice los elementos del conjunto con los siguientes métodos:\n",
        "\n",
        "- DBScan\n",
        "- Kmeans\n",
        "- AgglomerativeClustering (Clusterización jerárquica)\n",
        "\n",
        "Para todos los algoritmos, utilice como número de clusters la cantidad de clusters K dada por DBScan. Puede utilizar el atributo `labels_` miembro del objeto dbscan.\n",
        "\n",
        "¿Es el número de clusters dado por DBScan el mismo número que usted hubiera seleccionado utilizando Elbow method? verifique la respuesta."
      ],
      "metadata": {
        "id": "RF95OkpsNlCA"
      }
    },
    {
      "cell_type": "code",
      "execution_count": null,
      "metadata": {
        "id": "tThtRxlHNg2N"
      },
      "outputs": [],
      "source": []
    },
    {
      "cell_type": "markdown",
      "source": [
        "# Visualización de resultados\n",
        "\n",
        "Visualice los clusters producidos realizando el siguiente procedimiento:\n",
        "- Reduzca la dimensionalidad de los datos a solo 2 características y grafíquelos en el plano cartesiano. Para esto, puede utilizar el algoritmo PCA o T-SNE.\n",
        "- Por cada uno de los algoritmos, asigne un color como etiqueta a cada punto. Esto lo puede realizar utilizando `predict`.\n",
        "- Utilizando las nuevas dimensiones producidas por PCA ó T-SNE, aplique nuevamente el algoritmo DBScan y visualice los resultados.\n",
        "\n"
      ],
      "metadata": {
        "id": "g9QUh7PhwZSb"
      }
    },
    {
      "cell_type": "code",
      "source": [],
      "metadata": {
        "id": "HK3CFuaqw3lH"
      },
      "execution_count": null,
      "outputs": []
    },
    {
      "cell_type": "markdown",
      "source": [
        "# Conclusiones\n",
        "\n",
        "1. Considerando que usted no cuenta con las etiquetas de los datos, proponga y evalua una métrica que permita comparar el rendimiento entre los diferentes algoritmos de clustering.\n",
        "\n",
        "2. Por otro lado, considerando que usted si cuenta con las etiquetas de los datos (como es el caso del dataset iris), utilice una métrica que si considere las etiquetas de los datos.\n",
        "\n",
        "3. Genere conclusiones respecto a los algoritmos realizados. Responda cual a su juicio se ajusta mas al resultado deseado."
      ],
      "metadata": {
        "id": "3_FLxOATw3_c"
      }
    },
    {
      "cell_type": "code",
      "source": [],
      "metadata": {
        "id": "r_OH171Gxnjn"
      },
      "execution_count": null,
      "outputs": []
    }
  ]
}